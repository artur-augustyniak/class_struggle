{
 "cells": [
  {
   "cell_type": "code",
   "execution_count": 22,
   "id": "24ba0d0e-eddb-465d-bd03-23f4b86dc4f7",
   "metadata": {},
   "outputs": [
    {
     "name": "stdout",
     "output_type": "stream",
     "text": [
      "Processing CERT_PL_WARN_LIST\n",
      "Downloading CERT_PL_WARN_LIST\n",
      "ok ./input_data/cert_pl_domains.txt\n",
      "################################################################################\n",
      "Processing MAJESTIC_ONE_MILION_LIST\n",
      "Downloading MAJESTIC_ONE_MILION_LIST\n",
      "ok ./input_data/majestic_million.csv\n",
      "################################################################################\n"
     ]
    }
   ],
   "source": [
    "import os\n",
    "import requests\n",
    "\n",
    "datasets = [\n",
    "    (\n",
    "        \"CERT_PL_WARN_LIST\", \n",
    "        \"https://hole.cert.pl/domains/v2/domains.txt\",\n",
    "        \"./input_data/cert_pl_domains.txt\"\n",
    "    ),\n",
    "    (\n",
    "        \"MAJESTIC_ONE_MILION_LIST\", \n",
    "        \"https://downloads.majestic.com/majestic_million.csv\", \n",
    "        \"./input_data/majestic_million.csv\")\n",
    "    \n",
    "]\n",
    "for ds in datasets:\n",
    "    label, url, out_f = ds\n",
    "    print(f\"Processing {label}\")\n",
    "    if os.path.exists(out_f):\n",
    "        print(f\"File {out_f} exists, delete it if you want to download again\")\n",
    "    else:\n",
    "        print(f\"Downloading {label}\")\n",
    "        res = requests.get(url)\n",
    "        if 200 == res.status_code:\n",
    "            with open(out_f, \"w\") as f:\n",
    "                f.write(res.text)\n",
    "                print(\"ok\", out_f)\n",
    "        else:\n",
    "            print(\"Seomething went wrong \", res.status_code)\n",
    "    print(\"#\" * 80)"
   ]
  }
 ],
 "metadata": {
  "kernelspec": {
   "display_name": "Python 3 (ipykernel)",
   "language": "python",
   "name": "python3"
  },
  "language_info": {
   "codemirror_mode": {
    "name": "ipython",
    "version": 3
   },
   "file_extension": ".py",
   "mimetype": "text/x-python",
   "name": "python",
   "nbconvert_exporter": "python",
   "pygments_lexer": "ipython3",
   "version": "3.10.12"
  }
 },
 "nbformat": 4,
 "nbformat_minor": 5
}
